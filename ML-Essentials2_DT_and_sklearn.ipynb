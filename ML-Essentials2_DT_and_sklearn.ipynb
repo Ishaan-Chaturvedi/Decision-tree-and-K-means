{
 "cells": [
  {
   "cell_type": "markdown",
   "metadata": {},
   "source": [
    "# Decision Tree From Scratch"
   ]
  },
  {
   "cell_type": "code",
   "execution_count": 2,
   "metadata": {},
   "outputs": [],
   "source": [
    "#importing modules\n",
    "import os\n",
    "import pandas as pd\n",
    "import numpy as np \n",
    "import matplotlib.pyplot as plt"
   ]
  },
  {
   "cell_type": "code",
   "execution_count": 3,
   "metadata": {},
   "outputs": [],
   "source": [
    "#creating a dataframe from reading the csv file\n",
    "data1=pd.read_csv('hotel_experience.csv')\n"
   ]
  },
  {
   "cell_type": "code",
   "execution_count": 4,
   "metadata": {},
   "outputs": [
    {
     "data": {
      "text/html": [
       "<div>\n",
       "<style scoped>\n",
       "    .dataframe tbody tr th:only-of-type {\n",
       "        vertical-align: middle;\n",
       "    }\n",
       "\n",
       "    .dataframe tbody tr th {\n",
       "        vertical-align: top;\n",
       "    }\n",
       "\n",
       "    .dataframe thead th {\n",
       "        text-align: right;\n",
       "    }\n",
       "</style>\n",
       "<table border=\"1\" class=\"dataframe\">\n",
       "  <thead>\n",
       "    <tr style=\"text-align: right;\">\n",
       "      <th></th>\n",
       "      <th>Unnamed: 0</th>\n",
       "      <th>id</th>\n",
       "      <th>Gender</th>\n",
       "      <th>Age</th>\n",
       "      <th>purpose_of_travel</th>\n",
       "      <th>Type of Travel</th>\n",
       "      <th>Type Of Booking</th>\n",
       "      <th>Hotel wifi service</th>\n",
       "      <th>Departure/Arrival  convenience</th>\n",
       "      <th>Ease of Online booking</th>\n",
       "      <th>Hotel location</th>\n",
       "      <th>Food and drink</th>\n",
       "      <th>Stay comfort</th>\n",
       "      <th>Common Room entertainment</th>\n",
       "      <th>Checkin/Checkout service</th>\n",
       "      <th>Other service</th>\n",
       "      <th>Cleanliness</th>\n",
       "      <th>overall experience</th>\n",
       "    </tr>\n",
       "  </thead>\n",
       "  <tbody>\n",
       "    <tr>\n",
       "      <th>0</th>\n",
       "      <td>0</td>\n",
       "      <td>32746</td>\n",
       "      <td>Female</td>\n",
       "      <td>32</td>\n",
       "      <td>academic</td>\n",
       "      <td>Group Travel</td>\n",
       "      <td>Individual/Couple</td>\n",
       "      <td>5</td>\n",
       "      <td>5</td>\n",
       "      <td>2</td>\n",
       "      <td>5</td>\n",
       "      <td>5</td>\n",
       "      <td>5</td>\n",
       "      <td>5</td>\n",
       "      <td>1</td>\n",
       "      <td>2</td>\n",
       "      <td>5</td>\n",
       "      <td>good</td>\n",
       "    </tr>\n",
       "    <tr>\n",
       "      <th>1</th>\n",
       "      <td>1</td>\n",
       "      <td>52532</td>\n",
       "      <td>Male</td>\n",
       "      <td>44</td>\n",
       "      <td>business</td>\n",
       "      <td>Group Travel</td>\n",
       "      <td>Group bookings</td>\n",
       "      <td>3</td>\n",
       "      <td>3</td>\n",
       "      <td>3</td>\n",
       "      <td>3</td>\n",
       "      <td>5</td>\n",
       "      <td>3</td>\n",
       "      <td>4</td>\n",
       "      <td>2</td>\n",
       "      <td>4</td>\n",
       "      <td>1</td>\n",
       "      <td>good</td>\n",
       "    </tr>\n",
       "    <tr>\n",
       "      <th>2</th>\n",
       "      <td>2</td>\n",
       "      <td>62644</td>\n",
       "      <td>Male</td>\n",
       "      <td>64</td>\n",
       "      <td>tourism</td>\n",
       "      <td>Personal Travel</td>\n",
       "      <td>Individual/Couple</td>\n",
       "      <td>3</td>\n",
       "      <td>5</td>\n",
       "      <td>3</td>\n",
       "      <td>3</td>\n",
       "      <td>1</td>\n",
       "      <td>1</td>\n",
       "      <td>1</td>\n",
       "      <td>3</td>\n",
       "      <td>5</td>\n",
       "      <td>1</td>\n",
       "      <td>bad</td>\n",
       "    </tr>\n",
       "    <tr>\n",
       "      <th>3</th>\n",
       "      <td>3</td>\n",
       "      <td>57270</td>\n",
       "      <td>Female</td>\n",
       "      <td>36</td>\n",
       "      <td>academic</td>\n",
       "      <td>Group Travel</td>\n",
       "      <td>Group bookings</td>\n",
       "      <td>2</td>\n",
       "      <td>4</td>\n",
       "      <td>4</td>\n",
       "      <td>4</td>\n",
       "      <td>4</td>\n",
       "      <td>3</td>\n",
       "      <td>2</td>\n",
       "      <td>1</td>\n",
       "      <td>2</td>\n",
       "      <td>2</td>\n",
       "      <td>bad</td>\n",
       "    </tr>\n",
       "    <tr>\n",
       "      <th>4</th>\n",
       "      <td>4</td>\n",
       "      <td>18607</td>\n",
       "      <td>Female</td>\n",
       "      <td>80</td>\n",
       "      <td>tourism</td>\n",
       "      <td>Group Travel</td>\n",
       "      <td>Individual/Couple</td>\n",
       "      <td>2</td>\n",
       "      <td>4</td>\n",
       "      <td>2</td>\n",
       "      <td>5</td>\n",
       "      <td>4</td>\n",
       "      <td>4</td>\n",
       "      <td>4</td>\n",
       "      <td>2</td>\n",
       "      <td>2</td>\n",
       "      <td>4</td>\n",
       "      <td>bad</td>\n",
       "    </tr>\n",
       "  </tbody>\n",
       "</table>\n",
       "</div>"
      ],
      "text/plain": [
       "   Unnamed: 0     id  Gender  Age purpose_of_travel   Type of Travel  \\\n",
       "0           0  32746  Female   32          academic     Group Travel   \n",
       "1           1  52532    Male   44          business     Group Travel   \n",
       "2           2  62644    Male   64           tourism  Personal Travel   \n",
       "3           3  57270  Female   36          academic     Group Travel   \n",
       "4           4  18607  Female   80           tourism     Group Travel   \n",
       "\n",
       "     Type Of Booking  Hotel wifi service  Departure/Arrival  convenience  \\\n",
       "0  Individual/Couple                   5                               5   \n",
       "1     Group bookings                   3                               3   \n",
       "2  Individual/Couple                   3                               5   \n",
       "3     Group bookings                   2                               4   \n",
       "4  Individual/Couple                   2                               4   \n",
       "\n",
       "   Ease of Online booking  Hotel location  Food and drink  Stay comfort  \\\n",
       "0                       2               5               5             5   \n",
       "1                       3               3               5             3   \n",
       "2                       3               3               1             1   \n",
       "3                       4               4               4             3   \n",
       "4                       2               5               4             4   \n",
       "\n",
       "   Common Room entertainment  Checkin/Checkout service  Other service  \\\n",
       "0                          5                         1              2   \n",
       "1                          4                         2              4   \n",
       "2                          1                         3              5   \n",
       "3                          2                         1              2   \n",
       "4                          4                         2              2   \n",
       "\n",
       "   Cleanliness overall experience  \n",
       "0            5               good  \n",
       "1            1               good  \n",
       "2            1                bad  \n",
       "3            2                bad  \n",
       "4            4                bad  "
      ]
     },
     "execution_count": 4,
     "metadata": {},
     "output_type": "execute_result"
    }
   ],
   "source": [
    "#displaying first 5 rows of the dataframe\n",
    "data1.head()"
   ]
  },
  {
   "cell_type": "code",
   "execution_count": 5,
   "metadata": {},
   "outputs": [
    {
     "data": {
      "text/html": [
       "<div>\n",
       "<style scoped>\n",
       "    .dataframe tbody tr th:only-of-type {\n",
       "        vertical-align: middle;\n",
       "    }\n",
       "\n",
       "    .dataframe tbody tr th {\n",
       "        vertical-align: top;\n",
       "    }\n",
       "\n",
       "    .dataframe thead th {\n",
       "        text-align: right;\n",
       "    }\n",
       "</style>\n",
       "<table border=\"1\" class=\"dataframe\">\n",
       "  <thead>\n",
       "    <tr style=\"text-align: right;\">\n",
       "      <th></th>\n",
       "      <th>Unnamed: 0</th>\n",
       "      <th>id</th>\n",
       "      <th>Gender</th>\n",
       "      <th>Age</th>\n",
       "      <th>purpose_of_travel</th>\n",
       "      <th>Type of Travel</th>\n",
       "      <th>Type Of Booking</th>\n",
       "      <th>Hotel wifi service</th>\n",
       "      <th>Departure/Arrival  convenience</th>\n",
       "      <th>Ease of Online booking</th>\n",
       "      <th>Hotel location</th>\n",
       "      <th>Food and drink</th>\n",
       "      <th>Stay comfort</th>\n",
       "      <th>Common Room entertainment</th>\n",
       "      <th>Checkin/Checkout service</th>\n",
       "      <th>Other service</th>\n",
       "      <th>Cleanliness</th>\n",
       "      <th>overall experience</th>\n",
       "    </tr>\n",
       "  </thead>\n",
       "  <tbody>\n",
       "    <tr>\n",
       "      <th>99995</th>\n",
       "      <td>99995</td>\n",
       "      <td>74699</td>\n",
       "      <td>Female</td>\n",
       "      <td>14</td>\n",
       "      <td>business</td>\n",
       "      <td>Personal Travel</td>\n",
       "      <td>Individual/Couple</td>\n",
       "      <td>2</td>\n",
       "      <td>1</td>\n",
       "      <td>2</td>\n",
       "      <td>2</td>\n",
       "      <td>4</td>\n",
       "      <td>5</td>\n",
       "      <td>4</td>\n",
       "      <td>1</td>\n",
       "      <td>2</td>\n",
       "      <td>4</td>\n",
       "      <td>bad</td>\n",
       "    </tr>\n",
       "    <tr>\n",
       "      <th>99996</th>\n",
       "      <td>99996</td>\n",
       "      <td>20343</td>\n",
       "      <td>Male</td>\n",
       "      <td>37</td>\n",
       "      <td>tourism</td>\n",
       "      <td>Group Travel</td>\n",
       "      <td>Group bookings</td>\n",
       "      <td>3</td>\n",
       "      <td>3</td>\n",
       "      <td>3</td>\n",
       "      <td>4</td>\n",
       "      <td>4</td>\n",
       "      <td>4</td>\n",
       "      <td>4</td>\n",
       "      <td>2</td>\n",
       "      <td>4</td>\n",
       "      <td>4</td>\n",
       "      <td>bad</td>\n",
       "    </tr>\n",
       "    <tr>\n",
       "      <th>99997</th>\n",
       "      <td>99997</td>\n",
       "      <td>69947</td>\n",
       "      <td>Male</td>\n",
       "      <td>29</td>\n",
       "      <td>academic</td>\n",
       "      <td>Group Travel</td>\n",
       "      <td>Individual/Couple</td>\n",
       "      <td>2</td>\n",
       "      <td>2</td>\n",
       "      <td>2</td>\n",
       "      <td>4</td>\n",
       "      <td>2</td>\n",
       "      <td>2</td>\n",
       "      <td>2</td>\n",
       "      <td>1</td>\n",
       "      <td>4</td>\n",
       "      <td>2</td>\n",
       "      <td>bad</td>\n",
       "    </tr>\n",
       "    <tr>\n",
       "      <th>99998</th>\n",
       "      <td>99998</td>\n",
       "      <td>127543</td>\n",
       "      <td>Female</td>\n",
       "      <td>25</td>\n",
       "      <td>academic</td>\n",
       "      <td>Group Travel</td>\n",
       "      <td>Individual/Couple</td>\n",
       "      <td>1</td>\n",
       "      <td>2</td>\n",
       "      <td>2</td>\n",
       "      <td>4</td>\n",
       "      <td>2</td>\n",
       "      <td>5</td>\n",
       "      <td>2</td>\n",
       "      <td>3</td>\n",
       "      <td>3</td>\n",
       "      <td>2</td>\n",
       "      <td>bad</td>\n",
       "    </tr>\n",
       "    <tr>\n",
       "      <th>99999</th>\n",
       "      <td>99999</td>\n",
       "      <td>57660</td>\n",
       "      <td>Female</td>\n",
       "      <td>64</td>\n",
       "      <td>tourism</td>\n",
       "      <td>Personal Travel</td>\n",
       "      <td>Individual/Couple</td>\n",
       "      <td>2</td>\n",
       "      <td>3</td>\n",
       "      <td>2</td>\n",
       "      <td>5</td>\n",
       "      <td>3</td>\n",
       "      <td>2</td>\n",
       "      <td>1</td>\n",
       "      <td>3</td>\n",
       "      <td>1</td>\n",
       "      <td>4</td>\n",
       "      <td>bad</td>\n",
       "    </tr>\n",
       "  </tbody>\n",
       "</table>\n",
       "</div>"
      ],
      "text/plain": [
       "       Unnamed: 0      id  Gender  Age purpose_of_travel   Type of Travel  \\\n",
       "99995       99995   74699  Female   14          business  Personal Travel   \n",
       "99996       99996   20343    Male   37           tourism     Group Travel   \n",
       "99997       99997   69947    Male   29          academic     Group Travel   \n",
       "99998       99998  127543  Female   25          academic     Group Travel   \n",
       "99999       99999   57660  Female   64           tourism  Personal Travel   \n",
       "\n",
       "         Type Of Booking  Hotel wifi service  Departure/Arrival  convenience  \\\n",
       "99995  Individual/Couple                   2                               1   \n",
       "99996     Group bookings                   3                               3   \n",
       "99997  Individual/Couple                   2                               2   \n",
       "99998  Individual/Couple                   1                               2   \n",
       "99999  Individual/Couple                   2                               3   \n",
       "\n",
       "       Ease of Online booking  Hotel location  Food and drink  Stay comfort  \\\n",
       "99995                       2               2               4             5   \n",
       "99996                       3               4               4             4   \n",
       "99997                       2               4               2             2   \n",
       "99998                       2               4               2             5   \n",
       "99999                       2               5               3             2   \n",
       "\n",
       "       Common Room entertainment  Checkin/Checkout service  Other service  \\\n",
       "99995                          4                         1              2   \n",
       "99996                          4                         2              4   \n",
       "99997                          2                         1              4   \n",
       "99998                          2                         3              3   \n",
       "99999                          1                         3              1   \n",
       "\n",
       "       Cleanliness overall experience  \n",
       "99995            4                bad  \n",
       "99996            4                bad  \n",
       "99997            2                bad  \n",
       "99998            2                bad  \n",
       "99999            4                bad  "
      ]
     },
     "execution_count": 5,
     "metadata": {},
     "output_type": "execute_result"
    }
   ],
   "source": [
    "#displaying the last 5 rows of the dataframe\n",
    "data1.tail()"
   ]
  },
  {
   "cell_type": "code",
   "execution_count": 6,
   "metadata": {},
   "outputs": [
    {
     "data": {
      "text/plain": [
       "(100000, 18)"
      ]
     },
     "execution_count": 6,
     "metadata": {},
     "output_type": "execute_result"
    }
   ],
   "source": [
    "#displaying the shape i.e ( rows,columns ) of the dataframe\n",
    "data1.shape"
   ]
  },
  {
   "cell_type": "code",
   "execution_count": 7,
   "metadata": {},
   "outputs": [
    {
     "name": "stdout",
     "output_type": "stream",
     "text": [
      "<class 'pandas.core.frame.DataFrame'>\n",
      "RangeIndex: 100000 entries, 0 to 99999\n",
      "Data columns (total 18 columns):\n",
      " #   Column                          Non-Null Count   Dtype \n",
      "---  ------                          --------------   ----- \n",
      " 0   Unnamed: 0                      100000 non-null  int64 \n",
      " 1   id                              100000 non-null  int64 \n",
      " 2   Gender                          100000 non-null  object\n",
      " 3   Age                             100000 non-null  int64 \n",
      " 4   purpose_of_travel               100000 non-null  object\n",
      " 5   Type of Travel                  100000 non-null  object\n",
      " 6   Type Of Booking                 100000 non-null  object\n",
      " 7   Hotel wifi service              100000 non-null  int64 \n",
      " 8   Departure/Arrival  convenience  100000 non-null  int64 \n",
      " 9   Ease of Online booking          100000 non-null  int64 \n",
      " 10  Hotel location                  100000 non-null  int64 \n",
      " 11  Food and drink                  100000 non-null  int64 \n",
      " 12  Stay comfort                    100000 non-null  int64 \n",
      " 13  Common Room entertainment       100000 non-null  int64 \n",
      " 14  Checkin/Checkout service        100000 non-null  int64 \n",
      " 15  Other service                   100000 non-null  int64 \n",
      " 16  Cleanliness                     100000 non-null  int64 \n",
      " 17  overall experience              100000 non-null  object\n",
      "dtypes: int64(13), object(5)\n",
      "memory usage: 13.7+ MB\n"
     ]
    }
   ],
   "source": [
    "#displaying information about the values stored under various features\n",
    "#Not null indicates no null values\n",
    "data1.info()"
   ]
  },
  {
   "cell_type": "code",
   "execution_count": 8,
   "metadata": {},
   "outputs": [
    {
     "name": "stdout",
     "output_type": "stream",
     "text": [
      "no duplicate values\n"
     ]
    }
   ],
   "source": [
    "#checking if any duplicate row present\n",
    "if(data1.duplicated().sum())==0:\n",
    "    print('no duplicate values')\n",
    "    "
   ]
  },
  {
   "cell_type": "code",
   "execution_count": 9,
   "metadata": {
    "scrolled": true
   },
   "outputs": [
    {
     "name": "stdout",
     "output_type": "stream",
     "text": [
      "Unnamed: 0-\n",
      "[    0     1     2 ... 99997 99998 99999]\n",
      "id-\n",
      "[ 32746  52532  62644 ...  69947 127543  57660]\n",
      "Gender-\n",
      "['Female' 'Male']\n",
      "Age-\n",
      "[32 44 64 36 80 57 29  7 51 33 23 28 22 66 18 49 31 55 15 42 39 11 26 47\n",
      " 43 53 30 52 24 21 60 35 10 59 45 20 62 37 38 61 27 54 48 41 13 50 34 46\n",
      " 40  8 68 58 63 19 56 12 70 25 14 16 65 72 77  9 69 17 67 75 73 79 71 74\n",
      " 76 85 78]\n",
      "purpose_of_travel-\n",
      "['academic' 'business' 'tourism' 'personal' 'aviation']\n",
      "Type of Travel-\n",
      "['Group Travel' 'Personal Travel']\n",
      "Type Of Booking-\n",
      "['Individual/Couple' 'Group bookings' 'Not defined']\n",
      "Hotel wifi service-\n",
      "[5 3 2 4 1 0]\n",
      "Departure/Arrival  convenience-\n",
      "[5 3 4 2 1 0]\n",
      "Ease of Online booking-\n",
      "[2 3 4 1 0 5]\n",
      "Hotel location-\n",
      "[5 3 4 2 1 0]\n",
      "Food and drink-\n",
      "[5 1 4 2 3 0]\n",
      "Stay comfort-\n",
      "[5 3 1 4 2 0]\n",
      "Common Room entertainment-\n",
      "[5 4 1 2 3 0]\n",
      "Checkin/Checkout service-\n",
      "[1 2 3 4 5 0]\n",
      "Other service-\n",
      "[2 4 5 3 1 0]\n",
      "Cleanliness-\n",
      "[5 1 2 4 3 0]\n",
      "overall experience-\n",
      "['good' 'bad']\n"
     ]
    }
   ],
   "source": [
    "#displaying all the different values for each feature\n",
    "for x in data1.columns:\n",
    "    print(x+'-')\n",
    "    print(data1[x].unique())"
   ]
  },
  {
   "cell_type": "code",
   "execution_count": 10,
   "metadata": {},
   "outputs": [
    {
     "data": {
      "text/html": [
       "<div>\n",
       "<style scoped>\n",
       "    .dataframe tbody tr th:only-of-type {\n",
       "        vertical-align: middle;\n",
       "    }\n",
       "\n",
       "    .dataframe tbody tr th {\n",
       "        vertical-align: top;\n",
       "    }\n",
       "\n",
       "    .dataframe thead th {\n",
       "        text-align: right;\n",
       "    }\n",
       "</style>\n",
       "<table border=\"1\" class=\"dataframe\">\n",
       "  <thead>\n",
       "    <tr style=\"text-align: right;\">\n",
       "      <th></th>\n",
       "      <th>Unnamed: 0</th>\n",
       "      <th>id</th>\n",
       "      <th>Age</th>\n",
       "      <th>Hotel wifi service</th>\n",
       "      <th>Departure/Arrival  convenience</th>\n",
       "      <th>Ease of Online booking</th>\n",
       "      <th>Hotel location</th>\n",
       "      <th>Food and drink</th>\n",
       "      <th>Stay comfort</th>\n",
       "      <th>Common Room entertainment</th>\n",
       "      <th>Checkin/Checkout service</th>\n",
       "      <th>Other service</th>\n",
       "      <th>Cleanliness</th>\n",
       "    </tr>\n",
       "  </thead>\n",
       "  <tbody>\n",
       "    <tr>\n",
       "      <th>count</th>\n",
       "      <td>100000.000000</td>\n",
       "      <td>100000.000000</td>\n",
       "      <td>100000.000000</td>\n",
       "      <td>100000.000000</td>\n",
       "      <td>100000.000000</td>\n",
       "      <td>100000.000000</td>\n",
       "      <td>100000.000000</td>\n",
       "      <td>100000.000000</td>\n",
       "      <td>100000.000000</td>\n",
       "      <td>100000.000000</td>\n",
       "      <td>100000.000000</td>\n",
       "      <td>100000.000000</td>\n",
       "      <td>100000.000000</td>\n",
       "    </tr>\n",
       "    <tr>\n",
       "      <th>mean</th>\n",
       "      <td>49999.500000</td>\n",
       "      <td>64913.421530</td>\n",
       "      <td>39.366210</td>\n",
       "      <td>2.729420</td>\n",
       "      <td>3.061710</td>\n",
       "      <td>2.756860</td>\n",
       "      <td>2.977420</td>\n",
       "      <td>3.201540</td>\n",
       "      <td>3.438900</td>\n",
       "      <td>3.358360</td>\n",
       "      <td>3.303730</td>\n",
       "      <td>3.640560</td>\n",
       "      <td>3.285910</td>\n",
       "    </tr>\n",
       "    <tr>\n",
       "      <th>std</th>\n",
       "      <td>28867.657797</td>\n",
       "      <td>37469.018138</td>\n",
       "      <td>15.122459</td>\n",
       "      <td>1.327962</td>\n",
       "      <td>1.524823</td>\n",
       "      <td>1.398951</td>\n",
       "      <td>1.276803</td>\n",
       "      <td>1.329879</td>\n",
       "      <td>1.319433</td>\n",
       "      <td>1.333123</td>\n",
       "      <td>1.265509</td>\n",
       "      <td>1.176213</td>\n",
       "      <td>1.312449</td>\n",
       "    </tr>\n",
       "    <tr>\n",
       "      <th>min</th>\n",
       "      <td>0.000000</td>\n",
       "      <td>1.000000</td>\n",
       "      <td>7.000000</td>\n",
       "      <td>0.000000</td>\n",
       "      <td>0.000000</td>\n",
       "      <td>0.000000</td>\n",
       "      <td>0.000000</td>\n",
       "      <td>0.000000</td>\n",
       "      <td>0.000000</td>\n",
       "      <td>0.000000</td>\n",
       "      <td>0.000000</td>\n",
       "      <td>0.000000</td>\n",
       "      <td>0.000000</td>\n",
       "    </tr>\n",
       "    <tr>\n",
       "      <th>25%</th>\n",
       "      <td>24999.750000</td>\n",
       "      <td>32513.750000</td>\n",
       "      <td>27.000000</td>\n",
       "      <td>2.000000</td>\n",
       "      <td>2.000000</td>\n",
       "      <td>2.000000</td>\n",
       "      <td>2.000000</td>\n",
       "      <td>2.000000</td>\n",
       "      <td>2.000000</td>\n",
       "      <td>2.000000</td>\n",
       "      <td>3.000000</td>\n",
       "      <td>3.000000</td>\n",
       "      <td>2.000000</td>\n",
       "    </tr>\n",
       "    <tr>\n",
       "      <th>50%</th>\n",
       "      <td>49999.500000</td>\n",
       "      <td>64794.500000</td>\n",
       "      <td>40.000000</td>\n",
       "      <td>3.000000</td>\n",
       "      <td>3.000000</td>\n",
       "      <td>3.000000</td>\n",
       "      <td>3.000000</td>\n",
       "      <td>3.000000</td>\n",
       "      <td>4.000000</td>\n",
       "      <td>4.000000</td>\n",
       "      <td>3.000000</td>\n",
       "      <td>4.000000</td>\n",
       "      <td>3.000000</td>\n",
       "    </tr>\n",
       "    <tr>\n",
       "      <th>75%</th>\n",
       "      <td>74999.250000</td>\n",
       "      <td>97384.250000</td>\n",
       "      <td>51.000000</td>\n",
       "      <td>4.000000</td>\n",
       "      <td>4.000000</td>\n",
       "      <td>4.000000</td>\n",
       "      <td>4.000000</td>\n",
       "      <td>4.000000</td>\n",
       "      <td>5.000000</td>\n",
       "      <td>4.000000</td>\n",
       "      <td>4.000000</td>\n",
       "      <td>5.000000</td>\n",
       "      <td>4.000000</td>\n",
       "    </tr>\n",
       "    <tr>\n",
       "      <th>max</th>\n",
       "      <td>99999.000000</td>\n",
       "      <td>129879.000000</td>\n",
       "      <td>85.000000</td>\n",
       "      <td>5.000000</td>\n",
       "      <td>5.000000</td>\n",
       "      <td>5.000000</td>\n",
       "      <td>5.000000</td>\n",
       "      <td>5.000000</td>\n",
       "      <td>5.000000</td>\n",
       "      <td>5.000000</td>\n",
       "      <td>5.000000</td>\n",
       "      <td>5.000000</td>\n",
       "      <td>5.000000</td>\n",
       "    </tr>\n",
       "  </tbody>\n",
       "</table>\n",
       "</div>"
      ],
      "text/plain": [
       "          Unnamed: 0             id            Age  Hotel wifi service  \\\n",
       "count  100000.000000  100000.000000  100000.000000       100000.000000   \n",
       "mean    49999.500000   64913.421530      39.366210            2.729420   \n",
       "std     28867.657797   37469.018138      15.122459            1.327962   \n",
       "min         0.000000       1.000000       7.000000            0.000000   \n",
       "25%     24999.750000   32513.750000      27.000000            2.000000   \n",
       "50%     49999.500000   64794.500000      40.000000            3.000000   \n",
       "75%     74999.250000   97384.250000      51.000000            4.000000   \n",
       "max     99999.000000  129879.000000      85.000000            5.000000   \n",
       "\n",
       "       Departure/Arrival  convenience  Ease of Online booking  Hotel location  \\\n",
       "count                   100000.000000           100000.000000   100000.000000   \n",
       "mean                         3.061710                2.756860        2.977420   \n",
       "std                          1.524823                1.398951        1.276803   \n",
       "min                          0.000000                0.000000        0.000000   \n",
       "25%                          2.000000                2.000000        2.000000   \n",
       "50%                          3.000000                3.000000        3.000000   \n",
       "75%                          4.000000                4.000000        4.000000   \n",
       "max                          5.000000                5.000000        5.000000   \n",
       "\n",
       "       Food and drink   Stay comfort  Common Room entertainment  \\\n",
       "count   100000.000000  100000.000000              100000.000000   \n",
       "mean         3.201540       3.438900                   3.358360   \n",
       "std          1.329879       1.319433                   1.333123   \n",
       "min          0.000000       0.000000                   0.000000   \n",
       "25%          2.000000       2.000000                   2.000000   \n",
       "50%          3.000000       4.000000                   4.000000   \n",
       "75%          4.000000       5.000000                   4.000000   \n",
       "max          5.000000       5.000000                   5.000000   \n",
       "\n",
       "       Checkin/Checkout service  Other service    Cleanliness  \n",
       "count             100000.000000  100000.000000  100000.000000  \n",
       "mean                   3.303730       3.640560       3.285910  \n",
       "std                    1.265509       1.176213       1.312449  \n",
       "min                    0.000000       0.000000       0.000000  \n",
       "25%                    3.000000       3.000000       2.000000  \n",
       "50%                    3.000000       4.000000       3.000000  \n",
       "75%                    4.000000       5.000000       4.000000  \n",
       "max                    5.000000       5.000000       5.000000  "
      ]
     },
     "execution_count": 10,
     "metadata": {},
     "output_type": "execute_result"
    }
   ],
   "source": [
    "#describing properties like mean,min,max values \n",
    "data1.describe()"
   ]
  },
  {
   "cell_type": "code",
   "execution_count": 11,
   "metadata": {},
   "outputs": [
    {
     "data": {
      "text/html": [
       "<div>\n",
       "<style scoped>\n",
       "    .dataframe tbody tr th:only-of-type {\n",
       "        vertical-align: middle;\n",
       "    }\n",
       "\n",
       "    .dataframe tbody tr th {\n",
       "        vertical-align: top;\n",
       "    }\n",
       "\n",
       "    .dataframe thead th {\n",
       "        text-align: right;\n",
       "    }\n",
       "</style>\n",
       "<table border=\"1\" class=\"dataframe\">\n",
       "  <thead>\n",
       "    <tr style=\"text-align: right;\">\n",
       "      <th></th>\n",
       "      <th>Gender</th>\n",
       "      <th>Age</th>\n",
       "      <th>purpose_of_travel</th>\n",
       "      <th>Type of Travel</th>\n",
       "      <th>Type Of Booking</th>\n",
       "      <th>Hotel wifi service</th>\n",
       "      <th>Departure/Arrival  convenience</th>\n",
       "      <th>Ease of Online booking</th>\n",
       "      <th>Hotel location</th>\n",
       "      <th>Food and drink</th>\n",
       "      <th>Stay comfort</th>\n",
       "      <th>Common Room entertainment</th>\n",
       "      <th>Checkin/Checkout service</th>\n",
       "      <th>Other service</th>\n",
       "      <th>Cleanliness</th>\n",
       "      <th>overall experience</th>\n",
       "    </tr>\n",
       "  </thead>\n",
       "  <tbody>\n",
       "    <tr>\n",
       "      <th>0</th>\n",
       "      <td>Female</td>\n",
       "      <td>32</td>\n",
       "      <td>academic</td>\n",
       "      <td>Group Travel</td>\n",
       "      <td>Individual/Couple</td>\n",
       "      <td>5</td>\n",
       "      <td>5</td>\n",
       "      <td>2</td>\n",
       "      <td>5</td>\n",
       "      <td>5</td>\n",
       "      <td>5</td>\n",
       "      <td>5</td>\n",
       "      <td>1</td>\n",
       "      <td>2</td>\n",
       "      <td>5</td>\n",
       "      <td>good</td>\n",
       "    </tr>\n",
       "    <tr>\n",
       "      <th>1</th>\n",
       "      <td>Male</td>\n",
       "      <td>44</td>\n",
       "      <td>business</td>\n",
       "      <td>Group Travel</td>\n",
       "      <td>Group bookings</td>\n",
       "      <td>3</td>\n",
       "      <td>3</td>\n",
       "      <td>3</td>\n",
       "      <td>3</td>\n",
       "      <td>5</td>\n",
       "      <td>3</td>\n",
       "      <td>4</td>\n",
       "      <td>2</td>\n",
       "      <td>4</td>\n",
       "      <td>1</td>\n",
       "      <td>good</td>\n",
       "    </tr>\n",
       "    <tr>\n",
       "      <th>2</th>\n",
       "      <td>Male</td>\n",
       "      <td>64</td>\n",
       "      <td>tourism</td>\n",
       "      <td>Personal Travel</td>\n",
       "      <td>Individual/Couple</td>\n",
       "      <td>3</td>\n",
       "      <td>5</td>\n",
       "      <td>3</td>\n",
       "      <td>3</td>\n",
       "      <td>1</td>\n",
       "      <td>1</td>\n",
       "      <td>1</td>\n",
       "      <td>3</td>\n",
       "      <td>5</td>\n",
       "      <td>1</td>\n",
       "      <td>bad</td>\n",
       "    </tr>\n",
       "    <tr>\n",
       "      <th>3</th>\n",
       "      <td>Female</td>\n",
       "      <td>36</td>\n",
       "      <td>academic</td>\n",
       "      <td>Group Travel</td>\n",
       "      <td>Group bookings</td>\n",
       "      <td>2</td>\n",
       "      <td>4</td>\n",
       "      <td>4</td>\n",
       "      <td>4</td>\n",
       "      <td>4</td>\n",
       "      <td>3</td>\n",
       "      <td>2</td>\n",
       "      <td>1</td>\n",
       "      <td>2</td>\n",
       "      <td>2</td>\n",
       "      <td>bad</td>\n",
       "    </tr>\n",
       "    <tr>\n",
       "      <th>4</th>\n",
       "      <td>Female</td>\n",
       "      <td>80</td>\n",
       "      <td>tourism</td>\n",
       "      <td>Group Travel</td>\n",
       "      <td>Individual/Couple</td>\n",
       "      <td>2</td>\n",
       "      <td>4</td>\n",
       "      <td>2</td>\n",
       "      <td>5</td>\n",
       "      <td>4</td>\n",
       "      <td>4</td>\n",
       "      <td>4</td>\n",
       "      <td>2</td>\n",
       "      <td>2</td>\n",
       "      <td>4</td>\n",
       "      <td>bad</td>\n",
       "    </tr>\n",
       "  </tbody>\n",
       "</table>\n",
       "</div>"
      ],
      "text/plain": [
       "   Gender  Age purpose_of_travel   Type of Travel    Type Of Booking  \\\n",
       "0  Female   32          academic     Group Travel  Individual/Couple   \n",
       "1    Male   44          business     Group Travel     Group bookings   \n",
       "2    Male   64           tourism  Personal Travel  Individual/Couple   \n",
       "3  Female   36          academic     Group Travel     Group bookings   \n",
       "4  Female   80           tourism     Group Travel  Individual/Couple   \n",
       "\n",
       "   Hotel wifi service  Departure/Arrival  convenience  Ease of Online booking  \\\n",
       "0                   5                               5                       2   \n",
       "1                   3                               3                       3   \n",
       "2                   3                               5                       3   \n",
       "3                   2                               4                       4   \n",
       "4                   2                               4                       2   \n",
       "\n",
       "   Hotel location  Food and drink  Stay comfort  Common Room entertainment  \\\n",
       "0               5               5             5                          5   \n",
       "1               3               5             3                          4   \n",
       "2               3               1             1                          1   \n",
       "3               4               4             3                          2   \n",
       "4               5               4             4                          4   \n",
       "\n",
       "   Checkin/Checkout service  Other service  Cleanliness overall experience  \n",
       "0                         1              2            5               good  \n",
       "1                         2              4            1               good  \n",
       "2                         3              5            1                bad  \n",
       "3                         1              2            2                bad  \n",
       "4                         2              2            4                bad  "
      ]
     },
     "execution_count": 11,
     "metadata": {},
     "output_type": "execute_result"
    }
   ],
   "source": [
    "#dropping unnecessary features\n",
    "data1=data1.drop(data1.index[data1['Type Of Booking']=='Not defined'].tolist())\n",
    "data1=data1.drop(data1.columns[0],axis='columns')\n",
    "data1=data1.drop(data1.columns[0],axis='columns')\n",
    "data1.head()"
   ]
  },
  {
   "cell_type": "code",
   "execution_count": 12,
   "metadata": {},
   "outputs": [
    {
     "name": "stdout",
     "output_type": "stream",
     "text": [
      "<class 'pandas.core.frame.DataFrame'>\n",
      "Int64Index: 92789 entries, 0 to 99999\n",
      "Data columns (total 16 columns):\n",
      " #   Column                          Non-Null Count  Dtype \n",
      "---  ------                          --------------  ----- \n",
      " 0   Gender                          92789 non-null  object\n",
      " 1   Age                             92789 non-null  int64 \n",
      " 2   purpose_of_travel               92789 non-null  object\n",
      " 3   Type of Travel                  92789 non-null  object\n",
      " 4   Type Of Booking                 92789 non-null  object\n",
      " 5   Hotel wifi service              92789 non-null  int64 \n",
      " 6   Departure/Arrival  convenience  92789 non-null  int64 \n",
      " 7   Ease of Online booking          92789 non-null  int64 \n",
      " 8   Hotel location                  92789 non-null  int64 \n",
      " 9   Food and drink                  92789 non-null  int64 \n",
      " 10  Stay comfort                    92789 non-null  int64 \n",
      " 11  Common Room entertainment       92789 non-null  int64 \n",
      " 12  Checkin/Checkout service        92789 non-null  int64 \n",
      " 13  Other service                   92789 non-null  int64 \n",
      " 14  Cleanliness                     92789 non-null  int64 \n",
      " 15  overall experience              92789 non-null  object\n",
      "dtypes: int64(11), object(5)\n",
      "memory usage: 12.0+ MB\n"
     ]
    }
   ],
   "source": [
    "#displaying info of the refined dataset\n",
    "data1.info()"
   ]
  },
  {
   "cell_type": "code",
   "execution_count": 13,
   "metadata": {},
   "outputs": [
    {
     "data": {
      "image/png": "[encoded data removed]",
      "text/plain": [
       "<Figure size 432x288 with 1 Axes>"
      ]
     },
     "metadata": {
      "needs_background": "light"
     },
     "output_type": "display_data"
    },
    {
     "data": {
      "image/png": "[encoded data removed]",
      "text/plain": [
       "<Figure size 432x288 with 1 Axes>"
      ]
     },
     "metadata": {
      "needs_background": "light"
     },
     "output_type": "display_data"
    },
    {
     "data": {
      "image/png": "[encoded data removed]",
      "text/plain": [
       "<Figure size 432x288 with 1 Axes>"
      ]
     },
     "metadata": {
      "needs_background": "light"
     },
     "output_type": "display_data"
    },
    {
     "data": {
      "image/png": "[encoded data removed]",
      "text/plain": [
       "<Figure size 432x288 with 1 Axes>"
      ]
     },
     "metadata": {
      "needs_background": "light"
     },
     "output_type": "display_data"
    },
    {
     "data": {
      "image/png": "[encoded data removed]",
      "text/plain": [
       "<Figure size 432x288 with 1 Axes>"
      ]
     },
     "metadata": {
      "needs_background": "light"
     },
     "output_type": "display_data"
    },
    {
     "data": {
      "image/png": "[encoded data removed]",
      "text/plain": [
       "<Figure size 432x288 with 1 Axes>"
      ]
     },
     "metadata": {
      "needs_background": "light"
     },
     "output_type": "display_data"
    },
    {
     "data": {
      "image/png": "[encoded data removed]",
      "text/plain": [
       "<Figure size 432x288 with 1 Axes>"
      ]
     },
     "metadata": {
      "needs_background": "light"
     },
     "output_type": "display_data"
    },
    {
     "data": {
      "image/png": "[encoded data removed]",
      "text/plain": [
       "<Figure size 432x288 with 1 Axes>"
      ]
     },
     "metadata": {
      "needs_background": "light"
     },
     "output_type": "display_data"
    },
    {
     "data": {
      "image/png": "[encoded data removed]",
      "text/plain": [
       "<Figure size 432x288 with 1 Axes>"
      ]
     },
     "metadata": {
      "needs_background": "light"
     },
     "output_type": "display_data"
    },
    {
     "data": {
      "image/png": "[encoded data removed]",
      "text/plain": [
       "<Figure size 432x288 with 1 Axes>"
      ]
     },
     "metadata": {
      "needs_background": "light"
     },
     "output_type": "display_data"
    },
    {
     "data": {
      "image/png": "[encoded data removed]",
      "text/plain": [
       "<Figure size 432x288 with 1 Axes>"
      ]
     },
     "metadata": {
      "needs_background": "light"
     },
     "output_type": "display_data"
    },
    {
     "data": {
      "image/png": "[encoded data removed]",
      "text/plain": [
       "<Figure size 432x288 with 1 Axes>"
      ]
     },
     "metadata": {
      "needs_background": "light"
     },
     "output_type": "display_data"
    },
    {
     "data": {
      "image/png": "[encoded data removed]",
      "text/plain": [
       "<Figure size 432x288 with 1 Axes>"
      ]
     },
     "metadata": {
      "needs_background": "light"
     },
     "output_type": "display_data"
    },
    {
     "data": {
      "image/png": "[encoded data removed]",
      "text/plain": [
       "<Figure size 432x288 with 1 Axes>"
      ]
     },
     "metadata": {
      "needs_background": "light"
     },
     "output_type": "display_data"
    },
    {
     "data": {
      "image/png": "[encoded data removed]",
      "text/plain": [
       "<Figure size 432x288 with 1 Axes>"
      ]
     },
     "metadata": {
      "needs_background": "light"
     },
     "output_type": "display_data"
    }
   ],
   "source": [
    "#plotting bar grophs of all the catagorical features against their count \n",
    "i=0\n",
    "while i<16:\n",
    "    if i==1:\n",
    "        i=i+1\n",
    "        continue\n",
    "    data1.groupby([data1.columns[-1],data1.columns[i]])[data1.columns[i]].count().unstack(0).plot.bar(ylabel=\"No of Persons\")\n",
    "    i=i+1\n",
    "        \n",
    "    \n",
    "        \n",
    "    \n",
    "        \n",
    "    "
   ]
  },
  {
   "cell_type": "code",
   "execution_count": 14,
   "metadata": {
    "scrolled": true
   },
   "outputs": [
    {
     "data": {
      "text/plain": [
       "<AxesSubplot:xlabel='Age', ylabel='No of Persons'>"
      ]
     },
     "execution_count": 14,
     "metadata": {},
     "output_type": "execute_result"
    },
    {
     "data": {
      "image/png": "[encoded data removed]",
      "text/plain": [
       "<Figure size 432x288 with 1 Axes>"
      ]
     },
     "metadata": {
      "needs_background": "light"
     },
     "output_type": "display_data"
    }
   ],
   "source": [
    "#plotting graph of age(grouped by target class) vs count \n",
    "data1.groupby([data1.columns[-1],data1.columns[1]])[data1.columns[1]].count().unstack(0).plot(ylabel=\"No of Persons\")"
   ]
  },
  {
   "cell_type": "code",
   "execution_count": 23,
   "metadata": {},
   "outputs": [],
   "source": [
    "#Decision Tree Implementation from scratch\n",
    "\n",
    "#dividing dataset into training and testing set\n",
    "\n",
    "train=data1.sample(frac=0.75)\n",
    "test=data1.drop(train.index)\n",
    "\n",
    "#class begins\n",
    "\n",
    "class decision_tree:\n",
    "    \n",
    "    #init function to initiakize class variables\n",
    "    \n",
    "    def __init__(self,x,y):\n",
    "        self.train=x\n",
    "        self.test=y\n",
    "   \n",
    "    #node_finder function finds the split condition and divided datasets    \n",
    "    \n",
    "    def node_finder(self):\n",
    "       \n",
    "       #leaf node conditions\n",
    "        \n",
    "        if len(self.data.columns)==1:\n",
    "            if (len(self.data[self.data[self.data.columns[-1]]=='good'].index)>len(self.data[self.data[self.data.columns[-1]]=='bad'].index)):\n",
    "                self.lm=[['Leaf','good']]\n",
    "            else:\n",
    "                self.lm=[['Leaf','bad']]\n",
    "        elif (len(self.data[self.data[self.data.columns[-1]]=='good'].index)==len(self.data.index)):\n",
    "            self.lm=[['Leaf','good']]\n",
    "        \n",
    "        elif (len(self.data[self.data[self.data.columns[-1]]=='bad'].index)==len(self.data.index)):\n",
    "            self.lm=[['Leaf','bad']]    \n",
    "        \n",
    "        #creation of other nodes\n",
    "        \n",
    "        else:\n",
    "            p3=5\n",
    "            for x in self.data.columns:\n",
    "                if x =='overall experience':\n",
    "                    pass\n",
    "                else:\n",
    "                    k=[]\n",
    "                    z=self.data[x].unique()\n",
    "                    for c in z:\n",
    "                        a=len(self.data[(self.data[x]==c)&(self.data[self.data.columns[-1]]=='good')].index)\n",
    "                        b=len(self.data[(self.data[x]==c)].index)\n",
    "                        k.append(a/b)\n",
    "                    s=zip(k,z)\n",
    "                    z=list([d for _,d in sorted(s)])\n",
    "                    k=sorted(k)\n",
    "                    d=0\n",
    "                    for p8 in k:\n",
    "                        if p8>0.5:\n",
    "                            break\n",
    "                        d=d+1   \n",
    "                    if (d==0):\n",
    "                        w1=z[:1]\n",
    "                        w2=z[1:]\n",
    "                    elif d==len(z):\n",
    "                        w1=z[:d-1]\n",
    "                        w2=z[d-1:]\n",
    "                    else:\n",
    "                        w1=z[:d]\n",
    "                        w2=z[d:]\n",
    "                    for e1 in w1:\n",
    "                        c1=self.data[self.data[x]==e1]\n",
    "                        if(e1==w1[0]):\n",
    "                            d1=c1\n",
    "                        else:\n",
    "                            d1=pd.concat([d1,c1])         \n",
    "                    for e2 in w2:\n",
    "                        c2=self.data[self.data[x]==e2]\n",
    "                        if(e2==w2[0]):\n",
    "                            d2=c2\n",
    "                        else:\n",
    "                            d2=pd.concat([d2,c2])\n",
    "                    \n",
    "                    #using gini index as finding criteria        \n",
    "                    \n",
    "                    p1=len(d1.index)/len(self.data.index)    \n",
    "                    p2=len(d2.index)/len(self.data.index)\n",
    "                    g1=len(d1[d1[self.data.columns[-1]]=='good'].index)/len(d1.index)\n",
    "                    g2=len(d2[d2[self.data.columns[-1]]=='good'].index)/len(d2.index)\n",
    "                    G1=p1*(1-(g1**2)-((1-g1)**2))+p2*(1-(g2**2)-((1-g2)**2))\n",
    "                    if G1<p3:\n",
    "                        s2=x\n",
    "                        w3=w1\n",
    "                        p3=G1\n",
    "                        d6=d1\n",
    "                        d9=d2\n",
    "            \n",
    "            #dropped the feature which was used for split\n",
    "           \n",
    "            d6=d6.drop([s2],axis=1)\n",
    "            d9=d9.drop([s2],axis=1)\n",
    "            \n",
    "            #dropped feature with just one remaining unique value\n",
    "            \n",
    "            k0=d6.columns\n",
    "            for x in k0:\n",
    "                if x=='overall experience':\n",
    "                    pass\n",
    "                elif (len( d6[x].unique() )==1):\n",
    "                    d6=d6.drop([x],axis=1)\n",
    "                 \n",
    "            k2=d9.columns\n",
    "            for x in k2:\n",
    "                if x=='overall experience':\n",
    "                    pass\n",
    "                elif (len( d9[x].unique() )==1):\n",
    "                    d9=d9.drop([x],axis=1)\n",
    "            self.lm=[[s2,w3],d6,d9]\n",
    "    \n",
    "    #trainf function to find all the nodes and store them in a list for use in predictreport       \n",
    "           \n",
    "    def trainf(self):\n",
    "        self.list1=[]\n",
    "        t=[[self.train]]\n",
    "        for x in t:\n",
    "            self.data=x[0]\n",
    "            self.node_finder()\n",
    "            self.list1.append(self.lm[0])\n",
    "            if len(t)==1:\n",
    "                pass\n",
    "            else:    \n",
    "                self.list1[x[1]].append(len(self.list1)-1)\n",
    "            if self.lm[0][0]=='Leaf':\n",
    "                pass\n",
    "            else:\n",
    "                t.append([self.lm[1],len(self.list1)-1])\n",
    "                t.append([self.lm[2],len(self.list1)-1])   \n",
    "  \n",
    "     #predictreport fuction to calculate \n",
    "   \n",
    "    def predictreport(self):\n",
    "        self.trainf()\n",
    "        j=8\n",
    "        k=0\n",
    "        k1=0\n",
    "        for x2 in self.test.index:\n",
    "            testrow=self.test.loc[x2,:]\n",
    "            q1=self.list1[0]\n",
    "            while j!=5:\n",
    "                if(testrow[q1[0]] in q1[1]):\n",
    "                    q1=self.list1[q1[2]]\n",
    "                    if q1[0]=='Leaf':\n",
    "                        if testrow[-1]==q1[1]:\n",
    "                            k=k+1\n",
    "                            if testrow[-1]=='good':\n",
    "                                k1=k1+1\n",
    "                        break\n",
    "                else:\n",
    "                    q1=self.list1[q1[3]]\n",
    "                    if q1[0]=='Leaf':\n",
    "                        if testrow[-1]==q1[1]:\n",
    "                            k=k+1\n",
    "                            if testrow[-1]=='good':\n",
    "                                k1=k1+1\n",
    "                        break\n",
    "        dent=len(self.test.index)\n",
    "        deng=len(self.test[self.test[self.test.columns[-1]]=='good'].index)\n",
    "        self.u1=k1/(k1+((dent-deng)-(k-k1)))\n",
    "        self.u2=(k-k1)/((k-k1)+(deng-k1))\n",
    "        self.v1=(k1)/deng\n",
    "        self.v2=(k-k1)/(dent-deng)\n",
    "        self.Display() \n",
    "    \n",
    "    #Display function to display the prediction report in tabular form\n",
    "    \n",
    "    def Display(self):\n",
    "        heads=['Precision','Recall','F1-Score']\n",
    "        labels=['good','bad','mean']\n",
    "        z1=(2*(self.u1*self.v1))/(self.u1+self.v1)\n",
    "        z2=(2*(self.u2*self.v2))/(self.u2+self.v2)\n",
    "        scores=[[self.u1,self.v1,z1],[self.u2,self.v2,z2],[(self.u1+self.u2)/2,(self.v1+self.v2)/2,(z1+z2)/2]]\n",
    "        print(pd.DataFrame(scores,labels,heads))\n",
    "        \n",
    "          \n",
    "                             "
   ]
  },
  {
   "cell_type": "code",
   "execution_count": 24,
   "metadata": {},
   "outputs": [
    {
     "name": "stdout",
     "output_type": "stream",
     "text": [
      "Precision= total no of class 'a' items correctly identified/total no of items identified as class 'a'\n",
      "\n",
      "Recall=total no of class 'a' items correctly identified/total no of class 'a' items\n",
      "\n",
      "F1 score=Harmonic mean of precision and recall\n",
      "\n",
      "\n",
      "      Precision    Recall  F1-Score\n",
      "good   0.914921  0.897781  0.906270\n",
      "bad    0.918047  0.932046  0.924993\n",
      "mean   0.916484  0.914913  0.915631\n"
     ]
    }
   ],
   "source": [
    "print('Precision= total no of class \\'a\\' items correctly identified/total no of items identified as class \\'a\\'')\n",
    "\n",
    "print('\\nRecall=total no of class \\'a\\' items correctly identified/total no of class \\'a\\' items')\n",
    "\n",
    "print('\\nF1 score=Harmonic mean of precision and recall\\n\\n')\n",
    "\n",
    "#object creation\n",
    "\n",
    "dt=decision_tree(train,test)\n",
    "dt.predictreport()\n",
    "                      "
   ]
  },
  {
   "cell_type": "markdown",
   "metadata": {},
   "source": [
    "# ML using Sklearn"
   ]
  },
  {
   "cell_type": "code",
   "execution_count": 25,
   "metadata": {},
   "outputs": [],
   "source": [
    "#importing required libraries\n",
    "from sklearn.tree import DecisionTreeClassifier\n",
    "from sklearn.ensemble import RandomForestClassifier\n",
    "from sklearn.preprocessing import StandardScaler,LabelEncoder\n",
    "from sklearn.model_selection import train_test_split\n",
    "from sklearn.metrics import classification_report"
   ]
  },
  {
   "cell_type": "code",
   "execution_count": 26,
   "metadata": {},
   "outputs": [
    {
     "data": {
      "text/html": [
       "<div>\n",
       "<style scoped>\n",
       "    .dataframe tbody tr th:only-of-type {\n",
       "        vertical-align: middle;\n",
       "    }\n",
       "\n",
       "    .dataframe tbody tr th {\n",
       "        vertical-align: top;\n",
       "    }\n",
       "\n",
       "    .dataframe thead th {\n",
       "        text-align: right;\n",
       "    }\n",
       "</style>\n",
       "<table border=\"1\" class=\"dataframe\">\n",
       "  <thead>\n",
       "    <tr style=\"text-align: right;\">\n",
       "      <th></th>\n",
       "      <th>Gender</th>\n",
       "      <th>Age</th>\n",
       "      <th>purpose_of_travel</th>\n",
       "      <th>Type of Travel</th>\n",
       "      <th>Type Of Booking</th>\n",
       "      <th>Hotel wifi service</th>\n",
       "      <th>Departure/Arrival  convenience</th>\n",
       "      <th>Ease of Online booking</th>\n",
       "      <th>Hotel location</th>\n",
       "      <th>Food and drink</th>\n",
       "      <th>Stay comfort</th>\n",
       "      <th>Common Room entertainment</th>\n",
       "      <th>Checkin/Checkout service</th>\n",
       "      <th>Other service</th>\n",
       "      <th>Cleanliness</th>\n",
       "      <th>overall experience</th>\n",
       "    </tr>\n",
       "  </thead>\n",
       "  <tbody>\n",
       "    <tr>\n",
       "      <th>0</th>\n",
       "      <td>0</td>\n",
       "      <td>32</td>\n",
       "      <td>0</td>\n",
       "      <td>0</td>\n",
       "      <td>1</td>\n",
       "      <td>5</td>\n",
       "      <td>5</td>\n",
       "      <td>2</td>\n",
       "      <td>5</td>\n",
       "      <td>5</td>\n",
       "      <td>5</td>\n",
       "      <td>5</td>\n",
       "      <td>1</td>\n",
       "      <td>2</td>\n",
       "      <td>5</td>\n",
       "      <td>1</td>\n",
       "    </tr>\n",
       "    <tr>\n",
       "      <th>1</th>\n",
       "      <td>1</td>\n",
       "      <td>44</td>\n",
       "      <td>2</td>\n",
       "      <td>0</td>\n",
       "      <td>0</td>\n",
       "      <td>3</td>\n",
       "      <td>3</td>\n",
       "      <td>3</td>\n",
       "      <td>3</td>\n",
       "      <td>5</td>\n",
       "      <td>3</td>\n",
       "      <td>4</td>\n",
       "      <td>2</td>\n",
       "      <td>4</td>\n",
       "      <td>1</td>\n",
       "      <td>1</td>\n",
       "    </tr>\n",
       "    <tr>\n",
       "      <th>2</th>\n",
       "      <td>1</td>\n",
       "      <td>64</td>\n",
       "      <td>4</td>\n",
       "      <td>1</td>\n",
       "      <td>1</td>\n",
       "      <td>3</td>\n",
       "      <td>5</td>\n",
       "      <td>3</td>\n",
       "      <td>3</td>\n",
       "      <td>1</td>\n",
       "      <td>1</td>\n",
       "      <td>1</td>\n",
       "      <td>3</td>\n",
       "      <td>5</td>\n",
       "      <td>1</td>\n",
       "      <td>0</td>\n",
       "    </tr>\n",
       "    <tr>\n",
       "      <th>3</th>\n",
       "      <td>0</td>\n",
       "      <td>36</td>\n",
       "      <td>0</td>\n",
       "      <td>0</td>\n",
       "      <td>0</td>\n",
       "      <td>2</td>\n",
       "      <td>4</td>\n",
       "      <td>4</td>\n",
       "      <td>4</td>\n",
       "      <td>4</td>\n",
       "      <td>3</td>\n",
       "      <td>2</td>\n",
       "      <td>1</td>\n",
       "      <td>2</td>\n",
       "      <td>2</td>\n",
       "      <td>0</td>\n",
       "    </tr>\n",
       "    <tr>\n",
       "      <th>4</th>\n",
       "      <td>0</td>\n",
       "      <td>80</td>\n",
       "      <td>4</td>\n",
       "      <td>0</td>\n",
       "      <td>1</td>\n",
       "      <td>2</td>\n",
       "      <td>4</td>\n",
       "      <td>2</td>\n",
       "      <td>5</td>\n",
       "      <td>4</td>\n",
       "      <td>4</td>\n",
       "      <td>4</td>\n",
       "      <td>2</td>\n",
       "      <td>2</td>\n",
       "      <td>4</td>\n",
       "      <td>0</td>\n",
       "    </tr>\n",
       "  </tbody>\n",
       "</table>\n",
       "</div>"
      ],
      "text/plain": [
       "   Gender  Age  purpose_of_travel  Type of Travel  Type Of Booking  \\\n",
       "0       0   32                  0               0                1   \n",
       "1       1   44                  2               0                0   \n",
       "2       1   64                  4               1                1   \n",
       "3       0   36                  0               0                0   \n",
       "4       0   80                  4               0                1   \n",
       "\n",
       "   Hotel wifi service  Departure/Arrival  convenience  Ease of Online booking  \\\n",
       "0                   5                               5                       2   \n",
       "1                   3                               3                       3   \n",
       "2                   3                               5                       3   \n",
       "3                   2                               4                       4   \n",
       "4                   2                               4                       2   \n",
       "\n",
       "   Hotel location  Food and drink  Stay comfort  Common Room entertainment  \\\n",
       "0               5               5             5                          5   \n",
       "1               3               5             3                          4   \n",
       "2               3               1             1                          1   \n",
       "3               4               4             3                          2   \n",
       "4               5               4             4                          4   \n",
       "\n",
       "   Checkin/Checkout service  Other service  Cleanliness  overall experience  \n",
       "0                         1              2            5                   1  \n",
       "1                         2              4            1                   1  \n",
       "2                         3              5            1                   0  \n",
       "3                         1              2            2                   0  \n",
       "4                         2              2            4                   0  "
      ]
     },
     "execution_count": 26,
     "metadata": {},
     "output_type": "execute_result"
    }
   ],
   "source": [
    "#Convering Categorical features into integral values\n",
    "datas=data1\n",
    "k=LabelEncoder()\n",
    "for x in datas.columns:\n",
    "    if type(datas[x].unique()[0])==str:\n",
    "        datas[x]=k.fit_transform(datas[x])\n",
    "datas.head()  "
   ]
  },
  {
   "cell_type": "code",
   "execution_count": 27,
   "metadata": {},
   "outputs": [
    {
     "name": "stdout",
     "output_type": "stream",
     "text": [
      "<class 'pandas.core.frame.DataFrame'>\n",
      "Int64Index: 92789 entries, 0 to 99999\n",
      "Data columns (total 16 columns):\n",
      " #   Column                          Non-Null Count  Dtype\n",
      "---  ------                          --------------  -----\n",
      " 0   Gender                          92789 non-null  int32\n",
      " 1   Age                             92789 non-null  int64\n",
      " 2   purpose_of_travel               92789 non-null  int32\n",
      " 3   Type of Travel                  92789 non-null  int32\n",
      " 4   Type Of Booking                 92789 non-null  int32\n",
      " 5   Hotel wifi service              92789 non-null  int64\n",
      " 6   Departure/Arrival  convenience  92789 non-null  int64\n",
      " 7   Ease of Online booking          92789 non-null  int64\n",
      " 8   Hotel location                  92789 non-null  int64\n",
      " 9   Food and drink                  92789 non-null  int64\n",
      " 10  Stay comfort                    92789 non-null  int64\n",
      " 11  Common Room entertainment       92789 non-null  int64\n",
      " 12  Checkin/Checkout service        92789 non-null  int64\n",
      " 13  Other service                   92789 non-null  int64\n",
      " 14  Cleanliness                     92789 non-null  int64\n",
      " 15  overall experience              92789 non-null  int32\n",
      "dtypes: int32(5), int64(11)\n",
      "memory usage: 12.8 MB\n"
     ]
    }
   ],
   "source": [
    "#displaying information of the modified dataset\n",
    "datas.info()"
   ]
  },
  {
   "cell_type": "code",
   "execution_count": 28,
   "metadata": {},
   "outputs": [],
   "source": [
    "#splitting the dataset into training set,testing set and validating set\n",
    "y=datas['overall experience']\n",
    "x=datas.drop('overall experience',axis=1)\n",
    "train,test,y_train,y_test=train_test_split(x,y,test_size=0.2,random_state=1)\n",
    "train,cv,y_train,y_cv=train_test_split(train,y_train,test_size=0.25,random_state=1)\n",
    "#using standard scaler to normalise the dataset\n",
    "sc=StandardScaler()\n",
    "train=sc.fit_transform(train)\n",
    "test=sc.transform(test)\n",
    "cv=sc.transform(cv)\n"
   ]
  },
  {
   "cell_type": "markdown",
   "metadata": {},
   "source": [
    "MODEL-1"
   ]
  },
  {
   "cell_type": "code",
   "execution_count": 29,
   "metadata": {},
   "outputs": [
    {
     "name": "stdout",
     "output_type": "stream",
     "text": [
      "Depth_of_tree-\n",
      "34\n",
      "No of leaves-\n",
      "4167\n"
     ]
    }
   ],
   "source": [
    "#Decision tree classifier with gini index criterion\n",
    "classifier0=DecisionTreeClassifier()\n",
    "classifier0.fit(train,y_train)\n",
    "print('Depth_of_tree-')\n",
    "print(classifier0.get_depth())\n",
    "print('No of leaves-')\n",
    "print(classifier0.get_n_leaves())\n",
    "pred0=classifier0.predict(cv)\n",
    "\n",
    "\n",
    "\n",
    "\n"
   ]
  },
  {
   "cell_type": "markdown",
   "metadata": {},
   "source": [
    "MODEL-2"
   ]
  },
  {
   "cell_type": "code",
   "execution_count": 30,
   "metadata": {},
   "outputs": [
    {
     "name": "stdout",
     "output_type": "stream",
     "text": [
      "Depth_of_tree-\n",
      "35\n",
      "No of leaves-\n",
      "4006\n"
     ]
    }
   ],
   "source": [
    "#Decision tree classifier with entropy criterion\n",
    "classifier1=DecisionTreeClassifier(criterion='entropy')\n",
    "classifier1.fit(train,y_train)\n",
    "print('Depth_of_tree-')\n",
    "print(classifier1.get_depth())\n",
    "print('No of leaves-')\n",
    "print(classifier1.get_n_leaves())\n",
    "pred1=classifier1.predict(cv)\n"
   ]
  },
  {
   "cell_type": "markdown",
   "metadata": {},
   "source": [
    "MODEL-3"
   ]
  },
  {
   "cell_type": "code",
   "execution_count": 31,
   "metadata": {},
   "outputs": [],
   "source": [
    "#Random Forest Classifier\n",
    "classifier2=RandomForestClassifier()\n",
    "classifier2.fit(train,y_train)\n",
    "pred2=classifier2.predict(cv)"
   ]
  },
  {
   "cell_type": "code",
   "execution_count": 32,
   "metadata": {},
   "outputs": [
    {
     "name": "stdout",
     "output_type": "stream",
     "text": [
      "\t\t\t  MODEL-1\n",
      "\n",
      "              precision    recall  f1-score   support\n",
      "\n",
      "           0       0.93      0.93      0.93     10170\n",
      "           1       0.91      0.92      0.92      8388\n",
      "\n",
      "    accuracy                           0.92     18558\n",
      "   macro avg       0.92      0.92      0.92     18558\n",
      "weighted avg       0.92      0.92      0.92     18558\n",
      "\n",
      "\t\t\t  MODEL-2\n",
      "\n",
      "              precision    recall  f1-score   support\n",
      "\n",
      "           0       0.94      0.93      0.93     10170\n",
      "           1       0.91      0.92      0.92      8388\n",
      "\n",
      "    accuracy                           0.93     18558\n",
      "   macro avg       0.93      0.93      0.93     18558\n",
      "weighted avg       0.93      0.93      0.93     18558\n",
      "\n",
      "\t\t\t  MODEL-3\n",
      "\n",
      "              precision    recall  f1-score   support\n",
      "\n",
      "           0       0.94      0.96      0.95     10170\n",
      "           1       0.95      0.93      0.94      8388\n",
      "\n",
      "    accuracy                           0.95     18558\n",
      "   macro avg       0.95      0.95      0.95     18558\n",
      "weighted avg       0.95      0.95      0.95     18558\n",
      "\n"
     ]
    }
   ],
   "source": [
    "#Using validation set to select best model\n",
    "print('\\t\\t\\t  MODEL-1\\n')\n",
    "print(classification_report(y_cv,pred0))\n",
    "print('\\t\\t\\t  MODEL-2\\n')\n",
    "print(classification_report(y_cv,pred1))\n",
    "print('\\t\\t\\t  MODEL-3\\n')\n",
    "print(classification_report(y_cv,pred2))"
   ]
  },
  {
   "cell_type": "markdown",
   "metadata": {},
   "source": [
    "Hence MODEL-3 has best performance over the validation set"
   ]
  },
  {
   "cell_type": "code",
   "execution_count": 34,
   "metadata": {},
   "outputs": [
    {
     "name": "stdout",
     "output_type": "stream",
     "text": [
      "\t\t\t  TEST RESULTS-\n",
      "\n",
      "              precision    recall  f1-score   support\n",
      "\n",
      "           0       0.95      0.96      0.96     10299\n",
      "           1       0.95      0.93      0.94      8259\n",
      "\n",
      "    accuracy                           0.95     18558\n",
      "   macro avg       0.95      0.95      0.95     18558\n",
      "weighted avg       0.95      0.95      0.95     18558\n",
      "\n"
     ]
    }
   ],
   "source": [
    "#Using MODEL-3 to predict outcomes for the test dataset\n",
    "print('\\t\\t\\t  TEST RESULTS-\\n')\n",
    "fpred=classifier2.predict(test)\n",
    "print(classification_report(y_test,fpred))"
   ]
  },
  {
   "cell_type": "code",
   "execution_count": null,
   "metadata": {},
   "outputs": [],
   "source": []
  },
  {
   "cell_type": "code",
   "execution_count": null,
   "metadata": {},
   "outputs": [],
   "source": []
  },
  {
   "cell_type": "code",
   "execution_count": null,
   "metadata": {},
   "outputs": [],
   "source": []
  }
 ],
 "metadata": {
  "kernelspec": {
   "display_name": "Python 3",
   "language": "python",
   "name": "python3"
  },
  "language_info": {
   "codemirror_mode": {
    "name": "ipython",
    "version": 3
   },
   "file_extension": ".py",
   "mimetype": "text/x-python",
   "name": "python",
   "nbconvert_exporter": "python",
   "pygments_lexer": "ipython3",
   "version": "3.8.5"
  }
 },
 "nbformat": 4,
 "nbformat_minor": 5
}
